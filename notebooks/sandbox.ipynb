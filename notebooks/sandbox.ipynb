{
 "cells": [
  {
   "cell_type": "markdown",
   "id": "bba129cf",
   "metadata": {},
   "source": [
    "todo/ideas:\n",
    "- add general parameterized load_if_exists function to utils to replace generalized data loading functions in scrapers"
   ]
  },
  {
   "cell_type": "code",
   "execution_count": 1,
   "id": "bff9c5d2",
   "metadata": {},
   "outputs": [
    {
     "name": "stdout",
     "output_type": "stream",
     "text": [
      "d:\\code\\frankie_edgar_stan_zone\n"
     ]
    }
   ],
   "source": [
    "# IMMEDIATELY CHANGE TO ROOT DIR\n",
    "# ONLY RUN THIS ONCE\n",
    "# POSSIBLY ONLY USE THIS CONTEXT MANAGER\n",
    "import os\n",
    "os.chdir('..')\n",
    "print(os.getcwd())"
   ]
  },
  {
   "cell_type": "code",
   "execution_count": 2,
   "id": "d74f4c39",
   "metadata": {},
   "outputs": [],
   "source": [
    "import numpy as np\n",
    "import pandas as pd\n",
    "from src.ufctools.scraping import FightDataScraper"
   ]
  },
  {
   "cell_type": "code",
   "execution_count": 3,
   "id": "deb9c531",
   "metadata": {},
   "outputs": [
    {
     "name": "stdout",
     "output_type": "stream",
     "text": [
      "Pulling event data from http://ufcstats.com/statistics/events/completed?page=all\n",
      "Reading local event data from d:\\code\\frankie_edgar_stan_zone\\data\\event_data.csv\n",
      "No new events, local data up to date\n",
      "Loading local fight links from d:\\code\\frankie_edgar_stan_zone\\data\\fight_links.pickle\n",
      "Checking for new events to scrape\n",
      "No new event links to scrape.\n",
      "Reading local fight data from d:\\code\\frankie_edgar_stan_zone\\data\\raw_fight_data.csv\n"
     ]
    }
   ],
   "source": [
    "scraper=FightDataScraper()"
   ]
  },
  {
   "cell_type": "code",
   "execution_count": 4,
   "id": "737e9ec9",
   "metadata": {},
   "outputs": [
    {
     "name": "stdout",
     "output_type": "stream",
     "text": [
      "No new fights to scrape.\n"
     ]
    }
   ],
   "source": [
    "scraper.scrape_new_fights()"
   ]
  }
 ],
 "metadata": {
  "kernelspec": {
   "display_name": "Python 3",
   "language": "python",
   "name": "python3"
  },
  "language_info": {
   "codemirror_mode": {
    "name": "ipython",
    "version": 3
   },
   "file_extension": ".py",
   "mimetype": "text/x-python",
   "name": "python",
   "nbconvert_exporter": "python",
   "pygments_lexer": "ipython3",
   "version": "3.11.5"
  }
 },
 "nbformat": 4,
 "nbformat_minor": 5
}
