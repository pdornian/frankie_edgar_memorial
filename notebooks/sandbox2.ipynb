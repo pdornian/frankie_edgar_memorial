{
 "cells": [
  {
   "cell_type": "code",
   "execution_count": null,
   "id": "2999d837",
   "metadata": {},
   "outputs": [],
   "source": [
    "# using this because first sandbox is currently executing data download"
   ]
  },
  {
   "cell_type": "code",
   "execution_count": null,
   "id": "bff9c5d2",
   "metadata": {},
   "outputs": [
    {
     "name": "stdout",
     "output_type": "stream",
     "text": [
      "<built-in function getcwd>\n"
     ]
    }
   ],
   "source": [
    "# IMMEDIATELY CHANGE TO ROOT DIR\n",
    "# ONLY RUN THIS ONCE\n",
    "# POSSIBLY ONLY USE THIS CONTEXT MANAGER\n",
    "import os\n",
    "os.chdir('..')\n",
    "print(os.getcwd())"
   ]
  },
  {
   "cell_type": "code",
   "execution_count": null,
   "id": "d74f4c39",
   "metadata": {},
   "outputs": [],
   "source": []
  }
 ],
 "metadata": {
  "kernelspec": {
   "display_name": "Python 3",
   "language": "python",
   "name": "python3"
  },
  "language_info": {
   "codemirror_mode": {
    "name": "ipython",
    "version": 3
   },
   "file_extension": ".py",
   "mimetype": "text/x-python",
   "name": "python",
   "nbconvert_exporter": "python",
   "pygments_lexer": "ipython3",
   "version": "3.11.5"
  }
 },
 "nbformat": 4,
 "nbformat_minor": 5
}
